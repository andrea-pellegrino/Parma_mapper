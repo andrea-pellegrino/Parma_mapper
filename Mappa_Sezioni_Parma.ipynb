{
 "cells": [
  {
   "cell_type": "markdown",
   "id": "6e4f8868-04b9-469f-a945-b19e943fda6f",
   "metadata": {},
   "source": [
    "Preparazione librerie e dati geografici"
   ]
  },
  {
   "cell_type": "code",
   "execution_count": 89,
   "id": "1ff890f3-0932-4e06-b6de-c0db1aae6985",
   "metadata": {},
   "outputs": [],
   "source": [
    "# Importa librerie\n",
    "import geopandas as gpd\n",
    "import pandas as pd\n",
    "\n",
    "# Carica i confini ISTAT di Parma\n",
    "Istat_shp = gpd.read_file(r'Dati\\Shapefiles\\Sezioni_Censimento_PR_2011\\Sezioni_Censimento_PR_2011.shp').to_crs(32632)\n",
    "# Carica il file delle vie / sezioni elettorali\n",
    "Vie_df = pd.read_excel(r'Dati\\Dati\\excelVieSezioniCompleto.xlsx')\n"
   ]
  },
  {
   "cell_type": "markdown",
   "id": "62641b64-fed6-467d-a010-0ce525f12fc2",
   "metadata": {},
   "source": [
    "Geocodifica delle vie"
   ]
  },
  {
   "cell_type": "code",
   "execution_count": null,
   "id": "65c50dab-2e44-43c7-977f-21452685d464",
   "metadata": {},
   "outputs": [],
   "source": []
  }
 ],
 "metadata": {
  "kernelspec": {
   "display_name": "Python [conda env:base] *",
   "language": "python",
   "name": "conda-base-py"
  },
  "language_info": {
   "codemirror_mode": {
    "name": "ipython",
    "version": 3
   },
   "file_extension": ".py",
   "mimetype": "text/x-python",
   "name": "python",
   "nbconvert_exporter": "python",
   "pygments_lexer": "ipython3",
   "version": "3.12.7"
  }
 },
 "nbformat": 4,
 "nbformat_minor": 5
}
